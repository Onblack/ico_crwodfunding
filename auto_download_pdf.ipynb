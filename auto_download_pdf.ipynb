{
 "cells": [
  {
   "cell_type": "code",
   "execution_count": 1,
   "metadata": {},
   "outputs": [],
   "source": [
    "from selenium import webdriver\n",
    "from selenium.webdriver.common.action_chains import ActionChains\n",
    "from selenium.webdriver.chrome.options import Options\n",
    "from selenium.common.exceptions import TimeoutException\n",
    "from selenium.webdriver.common.by import By\n",
    "from selenium.webdriver.support.ui import WebDriverWait\n",
    "from selenium.webdriver.support import expected_conditions as EC\n",
    "from selenium.common.exceptions import InvalidArgumentException\n",
    "import time\n",
    "import pandas as pd\n",
    "import os\n",
    "from pathlib import Path\n",
    "import glob\n",
    "from os.path import join, getsize\n",
    "import requests"
   ]
  },
  {
   "cell_type": "code",
   "execution_count": 2,
   "metadata": {},
   "outputs": [],
   "source": [
    "data = pd.read_csv(r'whitelist1.csv')"
   ]
  },
  {
   "cell_type": "code",
   "execution_count": 20,
   "metadata": {},
   "outputs": [
    {
     "data": {
      "text/html": [
       "<div>\n",
       "<style scoped>\n",
       "    .dataframe tbody tr th:only-of-type {\n",
       "        vertical-align: middle;\n",
       "    }\n",
       "\n",
       "    .dataframe tbody tr th {\n",
       "        vertical-align: top;\n",
       "    }\n",
       "\n",
       "    .dataframe thead th {\n",
       "        text-align: right;\n",
       "    }\n",
       "</style>\n",
       "<table border=\"1\" class=\"dataframe\">\n",
       "  <thead>\n",
       "    <tr style=\"text-align: right;\">\n",
       "      <th></th>\n",
       "      <th>Name</th>\n",
       "      <th>Symbol</th>\n",
       "      <th>Whitepaper</th>\n",
       "      <th>status</th>\n",
       "      <th>s_name</th>\n",
       "    </tr>\n",
       "  </thead>\n",
       "  <tbody>\n",
       "    <tr>\n",
       "      <th>0</th>\n",
       "      <td>MEDICOHEALTH</td>\n",
       "      <td>MHP</td>\n",
       "      <td>https://medicohealth.io/landing_page/documents...</td>\n",
       "      <td>NaN</td>\n",
       "      <td>medicohealth1</td>\n",
       "    </tr>\n",
       "    <tr>\n",
       "      <th>1</th>\n",
       "      <td>ZEUX</td>\n",
       "      <td>ZUC</td>\n",
       "      <td>https://www.zeux.tech/assets/PDF/ZEUX-White-pa...</td>\n",
       "      <td>NaN</td>\n",
       "      <td>zeux</td>\n",
       "    </tr>\n",
       "    <tr>\n",
       "      <th>2</th>\n",
       "      <td>BITCADEMY FOOTBALL (PREICO)</td>\n",
       "      <td>BTMG</td>\n",
       "      <td>https://bitcademy.io/files/Bitcademy_Whitepape...</td>\n",
       "      <td>NaN</td>\n",
       "      <td>bitcademy_football_(preico)</td>\n",
       "    </tr>\n",
       "    <tr>\n",
       "      <th>3</th>\n",
       "      <td>FILMBUSINESSBUSTER</td>\n",
       "      <td>FBB</td>\n",
       "      <td>https://estudios-amazonia.com/FilmBusinessBust...</td>\n",
       "      <td>NaN</td>\n",
       "      <td>filmbusinessbuster</td>\n",
       "    </tr>\n",
       "    <tr>\n",
       "      <th>4</th>\n",
       "      <td>GRAYLL (PREICO)</td>\n",
       "      <td>GRX</td>\n",
       "      <td>https://grayll.io/wp-content/uploads/2019/06/G...</td>\n",
       "      <td>NaN</td>\n",
       "      <td>grayll_(preico)</td>\n",
       "    </tr>\n",
       "  </tbody>\n",
       "</table>\n",
       "</div>"
      ],
      "text/plain": [
       "                          Name Symbol  \\\n",
       "0                 MEDICOHEALTH    MHP   \n",
       "1                         ZEUX    ZUC   \n",
       "2  BITCADEMY FOOTBALL (PREICO)   BTMG   \n",
       "3           FILMBUSINESSBUSTER    FBB   \n",
       "4              GRAYLL (PREICO)    GRX   \n",
       "\n",
       "                                          Whitepaper status  \\\n",
       "0  https://medicohealth.io/landing_page/documents...    NaN   \n",
       "1  https://www.zeux.tech/assets/PDF/ZEUX-White-pa...    NaN   \n",
       "2  https://bitcademy.io/files/Bitcademy_Whitepape...    NaN   \n",
       "3  https://estudios-amazonia.com/FilmBusinessBust...    NaN   \n",
       "4  https://grayll.io/wp-content/uploads/2019/06/G...    NaN   \n",
       "\n",
       "                        s_name  \n",
       "0                medicohealth1  \n",
       "1                         zeux  \n",
       "2  bitcademy_football_(preico)  \n",
       "3           filmbusinessbuster  \n",
       "4              grayll_(preico)  "
      ]
     },
     "execution_count": 20,
     "metadata": {},
     "output_type": "execute_result"
    }
   ],
   "source": [
    "data.head()"
   ]
  },
  {
   "cell_type": "code",
   "execution_count": 10,
   "metadata": {},
   "outputs": [
    {
     "data": {
      "text/plain": [
       "(7745, 5)"
      ]
     },
     "execution_count": 10,
     "metadata": {},
     "output_type": "execute_result"
    }
   ],
   "source": [
    "sample6k = data[:]\n",
    "sample6k.shape"
   ]
  },
  {
   "cell_type": "code",
   "execution_count": 4,
   "metadata": {},
   "outputs": [],
   "source": [
    "url_list = sample6k['Whitepaper'].values\n",
    "name_list = sample6k['s_name'].values"
   ]
  },
  {
   "cell_type": "code",
   "execution_count": 5,
   "metadata": {},
   "outputs": [],
   "source": [
    "pdf_status = []\n",
    "\n",
    "for pdf_url, name in zip(url_list, name_list):\n",
    "    \n",
    "    def getdirsize(dir):\n",
    "        size = 0\n",
    "        for root, dirs, files in os.walk(dir):\n",
    "            size += sum([getsize(join(root, name)) for name in files])\n",
    "        return size\n",
    "    \n",
    "    before_size = getdirsize(r\"C:\\Users\\higgw\\pdf_ico1\")\n",
    "    \n",
    "    options = webdriver.ChromeOptions()\n",
    "    options.add_experimental_option(\"prefs\", {\n",
    "      \"download.default_directory\": r\"C:\\Users\\higgw\\pdf_ico1\",\n",
    "      \"download.prompt_for_download\": False,\n",
    "      \"download.directory_upgrade\": True,\n",
    "      \"safebrowsing.enabled\": True,\n",
    "      \"plugins.always_open_pdf_externally\": True\n",
    "    })\n",
    "    driver = webdriver.Chrome(options=options)\n",
    "    \n",
    "\n",
    "    try:\n",
    "        driver.get(pdf_url)\n",
    "        #element = WebDriverWait(driver, 12) until(           \n",
    "        #EC.presence_of_element_located((By.ID, \"content\")\n",
    "    \n",
    "    except (TimeoutException, InvalidArgumentException):      \n",
    "        pdf_status.append('timeout')\n",
    "        driver.quit()\n",
    "\n",
    "    else:\n",
    "        try:\n",
    "            time.sleep(8)\n",
    "\n",
    "            after_size = getdirsize(r\"C:\\Users\\higgw\\pdf_ico1\")\n",
    "\n",
    "            list_of_files = glob.glob(r'C:\\Users\\higgw\\pdf_ico1\\*')\n",
    "            latest_file = max(list_of_files, key=os.path.getctime)\n",
    "            driver.quit()\n",
    "\n",
    "            if before_size < after_size: \n",
    "                list_of_files = glob.glob(r'C:\\Users\\higgw\\pdf_ico1\\*')\n",
    "                latest_file = max(list_of_files, key=os.path.getctime)        \n",
    "                os.rename(latest_file, r'C:\\Users\\higgw\\pdf_ico1' + '\\\\' + name + '.pdf')\n",
    "                pdf_status.append('successful')\n",
    "\n",
    "            else:\n",
    "                sc = requests.head(pdf_url)\n",
    "                pdf_status.append(sc.status_code)\n",
    "                driver.quit()\n",
    "        except:       \n",
    "            pdf_status.append('driver failed')\n",
    "            driver.quit()\n",
    "\n"
   ]
  },
  {
   "cell_type": "code",
   "execution_count": 19,
   "metadata": {},
   "outputs": [
    {
     "name": "stdout",
     "output_type": "stream",
     "text": [
      "1560713613.7894468\n"
     ]
    }
   ],
   "source": [
    "#print(os.path.getmtime(r'C:\\pdf_ico\\whitepaper.pdf'))"
   ]
  },
  {
   "cell_type": "code",
   "execution_count": 46,
   "metadata": {},
   "outputs": [
    {
     "name": "stdout",
     "output_type": "stream",
     "text": [
      "Counter({'successful': 149, 'driver failed': 139, 404: 64, 200: 46, 301: 25, 403: 6, 302: 5, 522: 5, 523: 4, 521: 2, 525: 2, 'timeout': 1, 307: 1, 502: 1, 204: 1})\n"
     ]
    }
   ],
   "source": [
    "import collections\n",
    "\n",
    "counter=collections.Counter(pdf_status)\n",
    "print(counter)"
   ]
  },
  {
   "cell_type": "code",
   "execution_count": 40,
   "metadata": {},
   "outputs": [
    {
     "name": "stdout",
     "output_type": "stream",
     "text": [
      "          status\n",
      "0     successful\n",
      "1  driver failed\n",
      "2     successful\n",
      "3     successful\n",
      "4     successful\n"
     ]
    }
   ],
   "source": [
    "df = pd.DataFrame({'status':pdf_status})\n",
    "print (df.head())\n"
   ]
  },
  {
   "cell_type": "code",
   "execution_count": 8,
   "metadata": {},
   "outputs": [],
   "source": [
    "my_df = pd.DataFrame(pdf_status)\n",
    "\n",
    "my_df.to_csv('status_from_.csv', index=False, header=False)"
   ]
  }
 ],
 "metadata": {
  "kernelspec": {
   "display_name": "Python 3",
   "language": "python",
   "name": "python3"
  },
  "language_info": {
   "codemirror_mode": {
    "name": "ipython",
    "version": 3
   },
   "file_extension": ".py",
   "mimetype": "text/x-python",
   "name": "python",
   "nbconvert_exporter": "python",
   "pygments_lexer": "ipython3",
   "version": "3.6.5"
  }
 },
 "nbformat": 4,
 "nbformat_minor": 2
}
